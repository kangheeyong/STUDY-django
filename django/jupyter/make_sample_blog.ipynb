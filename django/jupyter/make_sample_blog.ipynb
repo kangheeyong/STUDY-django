{
 "cells": [
  {
   "cell_type": "code",
   "execution_count": 1,
   "id": "3e820e28-8d2a-4fee-8bda-9d5633c1d76a",
   "metadata": {},
   "outputs": [],
   "source": [
    "from blog.models import Post\n",
    "from django.contrib.auth.models import User"
   ]
  },
  {
   "cell_type": "code",
   "execution_count": 2,
   "id": "3b6b963e-7638-4bb0-bd28-373595ef0f9c",
   "metadata": {},
   "outputs": [
    {
     "data": {
      "text/plain": [
       "blog.models.Post"
      ]
     },
     "execution_count": 2,
     "metadata": {},
     "output_type": "execute_result"
    }
   ],
   "source": [
    "Post"
   ]
  },
  {
   "cell_type": "code",
   "execution_count": 3,
   "id": "4021da66-ac1e-4a49-a23c-bf4a5f295f17",
   "metadata": {},
   "outputs": [],
   "source": [
    "user = User.objects.get(username=\"admin\")"
   ]
  },
  {
   "cell_type": "code",
   "execution_count": 4,
   "id": "86a36475-af48-48f1-b391-d4f09e8922d2",
   "metadata": {},
   "outputs": [
    {
     "data": {
      "text/plain": [
       "<QuerySet [<Post: Blog_1>]>"
      ]
     },
     "execution_count": 4,
     "metadata": {},
     "output_type": "execute_result"
    }
   ],
   "source": [
    "Post.objects.all()"
   ]
  },
  {
   "cell_type": "code",
   "execution_count": 23,
   "id": "ce90eb6a-dc90-42bd-b781-ad52b40ee625",
   "metadata": {},
   "outputs": [],
   "source": [
    "post_1 = Post(title=\"Blog_1\", content=\"First Post Content!\", author=user)"
   ]
  },
  {
   "cell_type": "code",
   "execution_count": 25,
   "id": "fd039cd6",
   "metadata": {},
   "outputs": [],
   "source": [
    "post_1.save()"
   ]
  },
  {
   "cell_type": "code",
   "execution_count": 5,
   "id": "388c31a6-81dc-4672-b452-5bcb8bc51476",
   "metadata": {},
   "outputs": [
    {
     "data": {
      "text/plain": [
       "<QuerySet [<Post: Blog_1>]>"
      ]
     },
     "execution_count": 5,
     "metadata": {},
     "output_type": "execute_result"
    }
   ],
   "source": [
    "Post.objects.all()"
   ]
  },
  {
   "cell_type": "code",
   "execution_count": 6,
   "id": "d2239b78-eac5-4090-8c0f-e8891b750d83",
   "metadata": {},
   "outputs": [],
   "source": [
    "post_2 = Post(title=\"Blog_2\", content=\"Second Post Content!\", author_id=user.id)"
   ]
  },
  {
   "cell_type": "code",
   "execution_count": 7,
   "id": "da86666c-df8a-402a-a0d7-19fc8e9943c3",
   "metadata": {},
   "outputs": [],
   "source": [
    "post_2.save()"
   ]
  },
  {
   "cell_type": "code",
   "execution_count": 8,
   "id": "7b56f90c-2fc2-45a2-a72f-b816b34e1b2c",
   "metadata": {},
   "outputs": [
    {
     "data": {
      "text/plain": [
       "<QuerySet [<Post: Blog_1>, <Post: Blog_2>]>"
      ]
     },
     "execution_count": 8,
     "metadata": {},
     "output_type": "execute_result"
    }
   ],
   "source": [
    "Post.objects.all()"
   ]
  },
  {
   "cell_type": "code",
   "execution_count": 9,
   "id": "ca5e1c26-975e-4d31-8058-5656bc772030",
   "metadata": {},
   "outputs": [],
   "source": [
    "post = Post.objects.first()"
   ]
  },
  {
   "cell_type": "code",
   "execution_count": 10,
   "id": "a12ea4a5-05eb-41cd-8f36-b0e4ec80e794",
   "metadata": {},
   "outputs": [
    {
     "data": {
      "text/plain": [
       "'First Post Content!'"
      ]
     },
     "execution_count": 10,
     "metadata": {},
     "output_type": "execute_result"
    }
   ],
   "source": [
    "post.content"
   ]
  },
  {
   "cell_type": "code",
   "execution_count": 11,
   "id": "f0205d88-653b-488a-b668-ad6ce53a12dd",
   "metadata": {},
   "outputs": [
    {
     "data": {
      "text/plain": [
       "datetime.datetime(2021, 7, 11, 6, 56, 43, 599841, tzinfo=<UTC>)"
      ]
     },
     "execution_count": 11,
     "metadata": {},
     "output_type": "execute_result"
    }
   ],
   "source": [
    "post.date_posted"
   ]
  },
  {
   "cell_type": "code",
   "execution_count": 12,
   "id": "a90f9b8e-30d3-4a5c-a111-3a6a1fc36ef2",
   "metadata": {},
   "outputs": [
    {
     "data": {
      "text/plain": [
       "'cagojeiger@naver.com'"
      ]
     },
     "execution_count": 12,
     "metadata": {},
     "output_type": "execute_result"
    }
   ],
   "source": [
    "post.author.email"
   ]
  },
  {
   "cell_type": "code",
   "execution_count": 14,
   "id": "a86daa27-c563-4d2f-8c2d-c3dd074102f9",
   "metadata": {},
   "outputs": [
    {
     "data": {
      "text/plain": [
       "<django.db.models.fields.related_descriptors.create_reverse_many_to_one_manager.<locals>.RelatedManager at 0x7f907e15ac40>"
      ]
     },
     "execution_count": 14,
     "metadata": {},
     "output_type": "execute_result"
    }
   ],
   "source": [
    "user.post_set"
   ]
  },
  {
   "cell_type": "code",
   "execution_count": 15,
   "id": "8427137e-7931-4a6e-afa9-35e2215c197b",
   "metadata": {},
   "outputs": [
    {
     "data": {
      "text/plain": [
       "<QuerySet [<Post: Blog_1>, <Post: Blog_2>]>"
      ]
     },
     "execution_count": 15,
     "metadata": {},
     "output_type": "execute_result"
    }
   ],
   "source": [
    "user.post_set.all()"
   ]
  },
  {
   "cell_type": "code",
   "execution_count": 16,
   "id": "a35b7705-2851-448c-9925-f31479335be5",
   "metadata": {},
   "outputs": [
    {
     "data": {
      "text/plain": [
       "<Post: Blog 3>"
      ]
     },
     "execution_count": 16,
     "metadata": {},
     "output_type": "execute_result"
    }
   ],
   "source": [
    "user.post_set.create(title=\"Blog 3\", content=\"Third Post Content!\")"
   ]
  },
  {
   "cell_type": "code",
   "execution_count": 19,
   "id": "9f11ec92-acc3-4152-9dea-d3c58e68bed3",
   "metadata": {},
   "outputs": [
    {
     "data": {
      "text/plain": [
       "<QuerySet [<Post: Blog 3>, <Post: Blog_1 Updated>, <Post: Blog_2>]>"
      ]
     },
     "execution_count": 19,
     "metadata": {},
     "output_type": "execute_result"
    }
   ],
   "source": [
    "Post.objects.all()"
   ]
  },
  {
   "cell_type": "code",
   "execution_count": 22,
   "id": "c1f11db0-8039-4028-a894-83085247075f",
   "metadata": {},
   "outputs": [
    {
     "data": {
      "text/plain": [
       "<QuerySet [<Post: Blog 3>, <Post: Blog_2>, <Post: Blog_1 Updated>]>"
      ]
     },
     "execution_count": 22,
     "metadata": {},
     "output_type": "execute_result"
    }
   ],
   "source": [
    "Post.objects.order_by(\"-date_posted\").all()"
   ]
  },
  {
   "cell_type": "code",
   "execution_count": null,
   "id": "61429515-34dd-42eb-9d73-6b9a7596896a",
   "metadata": {},
   "outputs": [],
   "source": []
  }
 ],
 "metadata": {
  "kernelspec": {
   "display_name": "Django Kernel",
   "language": "python",
   "name": "django_extensions"
  },
  "language_info": {
   "codemirror_mode": {
    "name": "ipython",
    "version": 3
   },
   "file_extension": ".py",
   "mimetype": "text/x-python",
   "name": "python",
   "nbconvert_exporter": "python",
   "pygments_lexer": "ipython3",
   "version": "3.8.6"
  }
 },
 "nbformat": 4,
 "nbformat_minor": 5
}
