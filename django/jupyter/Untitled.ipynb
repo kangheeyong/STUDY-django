{
 "cells": [
  {
   "cell_type": "code",
   "execution_count": 4,
   "id": "e2ceb94a-a3a4-4168-8d5f-8d7a1e42f073",
   "metadata": {},
   "outputs": [],
   "source": [
    "from users.forms import UserRegisterFrom\n",
    "\n",
    "import pprint"
   ]
  },
  {
   "cell_type": "code",
   "execution_count": 5,
   "id": "c83e687c-8d9f-4f0b-9210-aa47e4b7e8dd",
   "metadata": {},
   "outputs": [
    {
     "name": "stdout",
     "output_type": "stream",
     "text": [
      "('<p><label for=\"id_username\">Username:</label> <input type=\"text\" '\n",
      " 'name=\"username\" maxlength=\"150\" autofocus required id=\"id_username\"> <span '\n",
      " 'class=\"helptext\">Required. 150 characters or fewer. Letters, digits and '\n",
      " '@/./+/-/_ only.</span></p>\\n'\n",
      " '<p><label for=\"id_email\">Email:</label> <input type=\"email\" name=\"email\" '\n",
      " 'required id=\"id_email\"></p>\\n'\n",
      " '<p><label for=\"id_password1\">Password:</label> <input type=\"password\" '\n",
      " 'name=\"password1\" autocomplete=\"new-password\" required id=\"id_password1\"> '\n",
      " '<span class=\"helptext\"><ul><li>Your password can’t be too similar to your '\n",
      " 'other personal information.</li><li>Your password must contain at least 8 '\n",
      " 'characters.</li><li>Your password can’t be a commonly used '\n",
      " 'password.</li><li>Your password can’t be entirely '\n",
      " 'numeric.</li></ul></span></p>\\n'\n",
      " '<p><label for=\"id_password2\">Password confirmation:</label> <input '\n",
      " 'type=\"password\" name=\"password2\" autocomplete=\"new-password\" required '\n",
      " 'id=\"id_password2\"> <span class=\"helptext\">Enter the same password as before, '\n",
      " 'for verification.</span></p>')\n"
     ]
    }
   ],
   "source": [
    "pprint.pprint(UserRegisterFrom().as_p())"
   ]
  },
  {
   "cell_type": "code",
   "execution_count": null,
   "id": "eebb24a1-4a9a-4c5c-bd0e-26e52b931ad3",
   "metadata": {},
   "outputs": [],
   "source": []
  },
  {
   "cell_type": "code",
   "execution_count": 2,
   "id": "6b13bb31-80e2-48b3-b0ab-43912f68eb39",
   "metadata": {},
   "outputs": [],
   "source": [
    "from django.contrib.auth.models import User"
   ]
  },
  {
   "cell_type": "code",
   "execution_count": 3,
   "id": "c08dcf27-b742-4315-9204-ca54de069bf7",
   "metadata": {},
   "outputs": [],
   "source": [
    "user = User.objects.get(username='admin')"
   ]
  },
  {
   "cell_type": "code",
   "execution_count": 4,
   "id": "9fea901f-90a4-4d31-aef1-04a33f1c47af",
   "metadata": {},
   "outputs": [
    {
     "data": {
      "text/plain": [
       "<User: admin>"
      ]
     },
     "execution_count": 4,
     "metadata": {},
     "output_type": "execute_result"
    }
   ],
   "source": [
    "user"
   ]
  },
  {
   "cell_type": "code",
   "execution_count": 6,
   "id": "2481e345-dc08-459c-af22-16e329e317d3",
   "metadata": {},
   "outputs": [
    {
     "data": {
      "text/plain": [
       "<ImageFieldFile: profile_pics/default.jpg>"
      ]
     },
     "execution_count": 6,
     "metadata": {},
     "output_type": "execute_result"
    }
   ],
   "source": [
    "user.profile.image"
   ]
  },
  {
   "cell_type": "code",
   "execution_count": 7,
   "id": "885dc4d8-ebf8-4a5f-912e-c6ed48833483",
   "metadata": {},
   "outputs": [
    {
     "data": {
      "text/plain": [
       "{'_file': None,\n",
       " 'name': 'profile_pics/default.jpg',\n",
       " 'instance': <Profile: admin Profile>,\n",
       " 'field': <django.db.models.fields.files.ImageField: image>,\n",
       " 'storage': <django.core.files.storage.FileSystemStorage at 0x7f631b5c9fa0>,\n",
       " '_committed': True}"
      ]
     },
     "execution_count": 7,
     "metadata": {},
     "output_type": "execute_result"
    }
   ],
   "source": [
    "user.profile.image.__dict__"
   ]
  },
  {
   "cell_type": "code",
   "execution_count": 8,
   "id": "cd011a51-1942-4840-a2e9-ad548f55c4a4",
   "metadata": {},
   "outputs": [
    {
     "data": {
      "text/plain": [
       "['DEFAULT_CHUNK_SIZE',\n",
       " '__bool__',\n",
       " '__class__',\n",
       " '__delattr__',\n",
       " '__dict__',\n",
       " '__dir__',\n",
       " '__doc__',\n",
       " '__enter__',\n",
       " '__eq__',\n",
       " '__exit__',\n",
       " '__format__',\n",
       " '__ge__',\n",
       " '__getattribute__',\n",
       " '__getstate__',\n",
       " '__gt__',\n",
       " '__hash__',\n",
       " '__init__',\n",
       " '__init_subclass__',\n",
       " '__iter__',\n",
       " '__le__',\n",
       " '__len__',\n",
       " '__lt__',\n",
       " '__module__',\n",
       " '__ne__',\n",
       " '__new__',\n",
       " '__reduce__',\n",
       " '__reduce_ex__',\n",
       " '__repr__',\n",
       " '__setattr__',\n",
       " '__setstate__',\n",
       " '__sizeof__',\n",
       " '__str__',\n",
       " '__subclasshook__',\n",
       " '__weakref__',\n",
       " '_committed',\n",
       " '_del_file',\n",
       " '_file',\n",
       " '_get_file',\n",
       " '_get_image_dimensions',\n",
       " '_require_file',\n",
       " '_set_file',\n",
       " 'chunks',\n",
       " 'close',\n",
       " 'closed',\n",
       " 'delete',\n",
       " 'encoding',\n",
       " 'field',\n",
       " 'file',\n",
       " 'fileno',\n",
       " 'flush',\n",
       " 'height',\n",
       " 'instance',\n",
       " 'isatty',\n",
       " 'multiple_chunks',\n",
       " 'name',\n",
       " 'newlines',\n",
       " 'open',\n",
       " 'path',\n",
       " 'read',\n",
       " 'readable',\n",
       " 'readinto',\n",
       " 'readline',\n",
       " 'readlines',\n",
       " 'save',\n",
       " 'seek',\n",
       " 'seekable',\n",
       " 'size',\n",
       " 'storage',\n",
       " 'tell',\n",
       " 'truncate',\n",
       " 'url',\n",
       " 'width',\n",
       " 'writable',\n",
       " 'write',\n",
       " 'writelines']"
      ]
     },
     "execution_count": 8,
     "metadata": {},
     "output_type": "execute_result"
    }
   ],
   "source": [
    "dir(user.profile.image)"
   ]
  },
  {
   "cell_type": "code",
   "execution_count": 10,
   "id": "f5f52724-c673-4a18-bb9b-cb7929fbfb25",
   "metadata": {},
   "outputs": [
    {
     "data": {
      "text/plain": [
       "<ImageFieldFile: profile_pics/default.jpg>"
      ]
     },
     "execution_count": 10,
     "metadata": {},
     "output_type": "execute_result"
    }
   ],
   "source": [
    "user.profile.image"
   ]
  },
  {
   "cell_type": "code",
   "execution_count": 14,
   "id": "13c96324-3ba5-4543-b101-934716c5fb86",
   "metadata": {},
   "outputs": [
    {
     "ename": "RelatedObjectDoesNotExist",
     "evalue": "User has no profile.",
     "output_type": "error",
     "traceback": [
      "\u001b[0;31m---------------------------------------------------------------------------\u001b[0m",
      "\u001b[0;31mRelatedObjectDoesNotExist\u001b[0m                 Traceback (most recent call last)",
      "\u001b[0;32m/tmp/ipykernel_13/323624629.py\u001b[0m in \u001b[0;36m<module>\u001b[0;34m\u001b[0m\n\u001b[0;32m----> 1\u001b[0;31m \u001b[0mUser\u001b[0m\u001b[0;34m.\u001b[0m\u001b[0mobjects\u001b[0m\u001b[0;34m.\u001b[0m\u001b[0mall\u001b[0m\u001b[0;34m(\u001b[0m\u001b[0;34m)\u001b[0m\u001b[0;34m[\u001b[0m\u001b[0;36m1\u001b[0m\u001b[0;34m]\u001b[0m\u001b[0;34m.\u001b[0m\u001b[0mprofile\u001b[0m\u001b[0;34m.\u001b[0m\u001b[0mimage\u001b[0m\u001b[0;34m\u001b[0m\u001b[0;34m\u001b[0m\u001b[0m\n\u001b[0m",
      "\u001b[0;32m/usr/local/lib/python3.8/site-packages/django/db/models/fields/related_descriptors.py\u001b[0m in \u001b[0;36m__get__\u001b[0;34m(self, instance, cls)\u001b[0m\n\u001b[1;32m    419\u001b[0m \u001b[0;34m\u001b[0m\u001b[0m\n\u001b[1;32m    420\u001b[0m         \u001b[0;32mif\u001b[0m \u001b[0mrel_obj\u001b[0m \u001b[0;32mis\u001b[0m \u001b[0;32mNone\u001b[0m\u001b[0;34m:\u001b[0m\u001b[0;34m\u001b[0m\u001b[0;34m\u001b[0m\u001b[0m\n\u001b[0;32m--> 421\u001b[0;31m             raise self.RelatedObjectDoesNotExist(\n\u001b[0m\u001b[1;32m    422\u001b[0m                 \"%s has no %s.\" % (\n\u001b[1;32m    423\u001b[0m                     \u001b[0minstance\u001b[0m\u001b[0;34m.\u001b[0m\u001b[0m__class__\u001b[0m\u001b[0;34m.\u001b[0m\u001b[0m__name__\u001b[0m\u001b[0;34m,\u001b[0m\u001b[0;34m\u001b[0m\u001b[0;34m\u001b[0m\u001b[0m\n",
      "\u001b[0;31mRelatedObjectDoesNotExist\u001b[0m: User has no profile."
     ]
    }
   ],
   "source": [
    "User.objects.all()[1].profile.image"
   ]
  },
  {
   "cell_type": "code",
   "execution_count": 17,
   "id": "2dee59f8-083c-49f0-b9e5-7bc931b8d962",
   "metadata": {},
   "outputs": [
    {
     "ename": "RelatedObjectDoesNotExist",
     "evalue": "User has no profile.",
     "output_type": "error",
     "traceback": [
      "\u001b[0;31m---------------------------------------------------------------------------\u001b[0m",
      "\u001b[0;31mRelatedObjectDoesNotExist\u001b[0m                 Traceback (most recent call last)",
      "\u001b[0;32m/tmp/ipykernel_13/3486158440.py\u001b[0m in \u001b[0;36m<module>\u001b[0;34m\u001b[0m\n\u001b[0;32m----> 1\u001b[0;31m \u001b[0mUser\u001b[0m\u001b[0;34m.\u001b[0m\u001b[0mobjects\u001b[0m\u001b[0;34m.\u001b[0m\u001b[0mall\u001b[0m\u001b[0;34m(\u001b[0m\u001b[0;34m)\u001b[0m\u001b[0;34m[\u001b[0m\u001b[0;36m1\u001b[0m\u001b[0;34m]\u001b[0m\u001b[0;34m.\u001b[0m\u001b[0mprofile\u001b[0m\u001b[0;34m\u001b[0m\u001b[0;34m\u001b[0m\u001b[0m\n\u001b[0m",
      "\u001b[0;32m/usr/local/lib/python3.8/site-packages/django/db/models/fields/related_descriptors.py\u001b[0m in \u001b[0;36m__get__\u001b[0;34m(self, instance, cls)\u001b[0m\n\u001b[1;32m    419\u001b[0m \u001b[0;34m\u001b[0m\u001b[0m\n\u001b[1;32m    420\u001b[0m         \u001b[0;32mif\u001b[0m \u001b[0mrel_obj\u001b[0m \u001b[0;32mis\u001b[0m \u001b[0;32mNone\u001b[0m\u001b[0;34m:\u001b[0m\u001b[0;34m\u001b[0m\u001b[0;34m\u001b[0m\u001b[0m\n\u001b[0;32m--> 421\u001b[0;31m             raise self.RelatedObjectDoesNotExist(\n\u001b[0m\u001b[1;32m    422\u001b[0m                 \"%s has no %s.\" % (\n\u001b[1;32m    423\u001b[0m                     \u001b[0minstance\u001b[0m\u001b[0;34m.\u001b[0m\u001b[0m__class__\u001b[0m\u001b[0;34m.\u001b[0m\u001b[0m__name__\u001b[0m\u001b[0;34m,\u001b[0m\u001b[0;34m\u001b[0m\u001b[0;34m\u001b[0m\u001b[0m\n",
      "\u001b[0;31mRelatedObjectDoesNotExist\u001b[0m: User has no profile."
     ]
    }
   ],
   "source": [
    "User.objects.all()[1].profile"
   ]
  },
  {
   "cell_type": "code",
   "execution_count": null,
   "id": "93c9ca3d-9385-405c-b8dc-4bdca0a036df",
   "metadata": {},
   "outputs": [],
   "source": []
  }
 ],
 "metadata": {
  "kernelspec": {
   "display_name": "Django Kernel",
   "language": "python",
   "name": "django_extensions"
  },
  "language_info": {
   "codemirror_mode": {
    "name": "ipython",
    "version": 3
   },
   "file_extension": ".py",
   "mimetype": "text/x-python",
   "name": "python",
   "nbconvert_exporter": "python",
   "pygments_lexer": "ipython3",
   "version": "3.8.6"
  }
 },
 "nbformat": 4,
 "nbformat_minor": 5
}
